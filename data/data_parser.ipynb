{
  "cells": [
    {
      "cell_type": "markdown",
      "metadata": {},
      "source": [
        "IMPORT OF USED LIBRARIES"
      ]
    },
    {
      "cell_type": "code",
      "execution_count": null,
      "metadata": {
        "id": "hucD8oQkNSQM"
      },
      "outputs": [],
      "source": [
        "import pandas as pd\n",
        "from datetime import datetime, timedelta"
      ]
    },
    {
      "cell_type": "markdown",
      "metadata": {},
      "source": [
        "LOADED OUTPUT DATASET"
      ]
    },
    {
      "cell_type": "code",
      "execution_count": null,
      "metadata": {
        "colab": {
          "base_uri": "https://localhost:8080/",
          "height": 614
        },
        "id": "2L8K4KGef7Zj",
        "outputId": "0aefde52-1126-46a8-eba7-10ef1dbca5e3"
      },
      "outputs": [],
      "source": [
        "path_to_raw_output_data = \"data\\RozsAgloSP4-2018-vystup.xlsm\"\n",
        "\n",
        "data_output = pd.read_excel(path_to_raw_output_data)\n",
        "\n",
        "data_output"
      ]
    },
    {
      "cell_type": "code",
      "execution_count": null,
      "metadata": {},
      "outputs": [],
      "source": [
        "adjusted_times = []\n",
        "\n",
        "# Loop through each time stamp in the 'Dátum a čas' column of data_output\n",
        "for time_stamp in data_output['Dátum a čas']:\n",
        "\n",
        "    # Convert time stamp to string and then to datetime object\n",
        "    time_str = time_stamp.strftime(\"%Y-%m-%d %H:%M:%S\")\n",
        "    date_time = datetime.strptime(time_str, \"%Y-%m-%d %H:%M:%S\")\n",
        "\n",
        "    # Adjust the time based on conditions\n",
        "    if date_time.hour >= 23:\n",
        "        date_time = date_time.replace(hour=23, minute=0, second=0)\n",
        "    elif date_time.hour >= 11: \n",
        "        date_time = date_time.replace(hour=11, minute=0, second=0)\n",
        "    else:\n",
        "        date_time -= timedelta(days=1)  # Subtract a day\n",
        "        date_time = date_time.replace(hour=23, minute=0, second=0)\n",
        "\n",
        "    adjusted_times.append(date_time)  # Add adjusted time to list\n",
        "\n",
        "data_output['Upravené časy intervalov'] = adjusted_times  # Add adjusted times to data_output\n",
        "\n",
        "closest_time_stamps = []\n",
        "groups = data_output.groupby('Upravené časy intervalov')\n",
        "\n",
        "# Loop through groups\n",
        "for _, group in groups:\n",
        "\n",
        "    # Get first time stamp in the group\n",
        "    first_time_stamp = group.iloc[0]['Dátum a čas']\n",
        "    closest_time_stamp = first_time_stamp\n",
        "\n",
        "    # Iterate through rows in the group\n",
        "    for _, row in group.iterrows():\n",
        "\n",
        "        real_time_stamp = row['Dátum a čas']\n",
        "\n",
        "        # Check if the absolute time difference is smaller than the current closest time stamp\n",
        "        if abs((real_time_stamp - row['Upravené časy intervalov']).total_seconds()) < abs((closest_time_stamp - row['Upravené časy intervalov']).total_seconds()):\n",
        "            closest_time_stamp = real_time_stamp\n",
        "    \n",
        "    closest_time_stamps.append(closest_time_stamp)\n",
        "\n",
        "# Filter data_output to keep rows with closest_time_stamps\n",
        "data_w_relevant_ts = data_output[data_output['Dátum a čas'].isin(closest_time_stamps)]\n",
        "data_w_relevant_ts = data_w_relevant_ts.reset_index(drop=True)\n",
        "\n",
        "# Remove specified columns with NaN values\n",
        "data_output = data_output.drop(['ISO Zhoda', 'ISO 0-5', 'ISO > 6,3'], axis=1)"
      ]
    },
    {
      "cell_type": "code",
      "execution_count": null,
      "metadata": {
        "colab": {
          "base_uri": "https://localhost:8080/",
          "height": 877
        },
        "id": "8XEPAU1jnA80",
        "outputId": "27abbda2-a3dc-44dd-da7e-558e7d746ec0"
      },
      "outputs": [],
      "source": [
        "path_to_15min_raw_data = 'data\\PI_DataLink_Aglo_digital twins-5min-SP4-2018-15minute.xlsm'\n",
        "\n",
        "data_15min = pd.read_excel(path_to_15min_raw_data)\n",
        "\n",
        "data_15min"
      ]
    },
    {
      "cell_type": "code",
      "execution_count": null,
      "metadata": {},
      "outputs": [],
      "source": [
        "path_to_30min_raw_data = 'data\\PI_DataLink_Aglo_digital twins-5min-SP4-2018-30minute.xlsm'\n",
        "\n",
        "data_30min = pd.read_excel(path_to_30min_raw_data)\n",
        "\n",
        "data_30min"
      ]
    },
    {
      "cell_type": "markdown",
      "metadata": {},
      "source": [
        "REMOVAL OF REDUNDANT DATA"
      ]
    },
    {
      "cell_type": "code",
      "execution_count": null,
      "metadata": {},
      "outputs": [],
      "source": [
        "data_15min = data_15min.iloc[3:, 2:]\n",
        "data_15min = data_15min.reset_index(drop=True)\n",
        "\n",
        "data_30min = data_30min.iloc[3:, 2:]\n",
        "data_30min = data_30min.reset_index(drop=True)\n",
        "\n",
        "# Drop rows with NaN values\n",
        "data_15min.dropna(inplace=True)\n",
        "\n",
        "data_30min.dropna(inplace=True)"
      ]
    },
    {
      "cell_type": "markdown",
      "metadata": {},
      "source": [
        "MERGING BASED ON DATE AND TIME\n"
      ]
    },
    {
      "cell_type": "markdown",
      "metadata": {},
      "source": [
        "- For 15 minutes data"
      ]
    },
    {
      "cell_type": "code",
      "execution_count": null,
      "metadata": {},
      "outputs": [],
      "source": [
        "# Convert date columns to datetime format\n",
        "data_output['Date'] = pd.to_datetime(data_output['Upravené časy intervalov'])\n",
        "data_15min['Date'] = pd.to_datetime(data_15min['Unnamed: 2'])\n",
        "\n",
        "# Merge based on date intervals\n",
        "result_data = pd.merge(data_15min, data_output, left_on=['Date'], right_on=['Date'], how='inner')\n",
        "\n",
        "# Rename columns\n",
        "result_data = result_data.rename(columns={'Unnamed: 2': 'Interval od', 'Unnamed: 3': 'Interval do'})\n",
        "\n",
        "# Drop unnecessary columns\n",
        "result_data = result_data.drop('Date', axis=1)  # Drop the merged date column\n",
        "result_data = result_data.drop('výstupné dáta, látkové filtre - pred komínom', axis=1)  # Drop specific columns\n",
        "result_data = result_data.drop('Unnamed: 12', axis=1)\n",
        "result_data = result_data.drop('Unnamed: 13', axis=1)\n",
        "result_data = result_data.drop('Unnamed: 14', axis=1)\n",
        "result_data = result_data.drop('Unnamed: 16', axis=1)\n",
        "result_data = result_data.drop('výstupné dáta.3', axis=1)\n",
        "result_data = result_data.drop('výstupné dáta.4', axis=1)\n",
        "result_data = result_data.drop('Unnamed: 27', axis=1)\n",
        "result_data = result_data.drop('vstupné dáta, reguluje palič.10', axis=1)\n",
        "result_data = result_data.drop('Unnamed: 30', axis=1)\n",
        "result_data = result_data.drop('vstupné dáta.2', axis=1)\n",
        "result_data = result_data.drop('vstupné dáta.3', axis=1)\n",
        "result_data = result_data.drop('vstupné dáta, 3 stupeň', axis=1)\n",
        "\n",
        "# Save to Excel\n",
        "result_15min_data_path = 'data/parsed_15min_dataset.xlsx'\n",
        "result_data.to_excel(result_15min_data_path, index=False)"
      ]
    },
    {
      "cell_type": "code",
      "execution_count": null,
      "metadata": {
        "colab": {
          "base_uri": "https://localhost:8080/"
        },
        "id": "huHMJATNIUDk",
        "outputId": "912db93a-9136-4172-c6c8-d695a4e42641"
      },
      "outputs": [],
      "source": [
        "result_data.count()"
      ]
    },
    {
      "cell_type": "markdown",
      "metadata": {},
      "source": [
        "- for 30 minutes data"
      ]
    },
    {
      "cell_type": "code",
      "execution_count": null,
      "metadata": {},
      "outputs": [],
      "source": [
        "# Convert date columns to datetime format\n",
        "\n",
        "data_30min['Date'] = pd.to_datetime(data_30min['Unnamed: 2'])\n",
        "\n",
        "# Merge based on date intervals\n",
        "result_data = pd.merge(data_30min, data_output, left_on=['Date'], right_on=['Date'], how='inner')\n",
        "\n",
        "# Rename columns\n",
        "result_data = result_data.rename(columns={'Unnamed: 2': 'Interval od', 'Unnamed: 3': 'Interval do'})\n",
        "\n",
        "# Drop unnecessary columns\n",
        "result_data = result_data.drop('Date', axis=1)  # Drop the merged date column\n",
        "result_data = result_data.drop('výstupné dáta, látkové filtre - pred komínom', axis=1)  # Drop specific columns\n",
        "result_data = result_data.drop('Unnamed: 12', axis=1)\n",
        "result_data = result_data.drop('Unnamed: 13', axis=1)\n",
        "result_data = result_data.drop('Unnamed: 14', axis=1)\n",
        "result_data = result_data.drop('Unnamed: 16', axis=1)\n",
        "result_data = result_data.drop('výstupné dáta.3', axis=1)\n",
        "result_data = result_data.drop('výstupné dáta.4', axis=1)\n",
        "result_data = result_data.drop('Unnamed: 27', axis=1)\n",
        "result_data = result_data.drop('vstupné dáta, reguluje palič.10', axis=1)\n",
        "result_data = result_data.drop('Unnamed: 30', axis=1)\n",
        "result_data = result_data.drop('vstupné dáta.2', axis=1)\n",
        "result_data = result_data.drop('vstupné dáta.3', axis=1)\n",
        "result_data = result_data.drop('vstupné dáta, 3 stupeň', axis=1)\n",
        "\n",
        "# Save to Excel\n",
        "result_30min_data_path = 'data/parsed_30min_dataset.xlsx'\n",
        "result_data.to_excel(result_30min_data_path, index=False)"
      ]
    },
    {
      "cell_type": "code",
      "execution_count": null,
      "metadata": {},
      "outputs": [],
      "source": [
        "result_data.count()"
      ]
    },
    {
      "cell_type": "markdown",
      "metadata": {},
      "source": [
        "ADJUSTING RESULT DATASET TO INFO DATASET"
      ]
    },
    {
      "cell_type": "code",
      "execution_count": null,
      "metadata": {},
      "outputs": [],
      "source": [
        "# Read the parsed_dataset excel file and select specific columns\n",
        "info_dataset = pd.read_excel(result_15min_data_path)\n",
        "info_dataset = info_dataset[['Interval od', 'Interval do', 'Vzorka', 'Zhoda', '0-5', 'výstupné dáta.5']]\n",
        "\n",
        "# Save the selected columns to a new excel file\n",
        "info_dataset.to_excel('data/info_15min_dataset.xlsx', index=False)\n",
        "\n",
        "# Read the parsed_dataset excel file and select specific columns\n",
        "info_dataset = pd.read_excel(result_30min_data_path)\n",
        "info_dataset = info_dataset[['Interval od', 'Interval do', 'Vzorka', 'Zhoda', '0-5', 'výstupné dáta.5']]\n",
        "\n",
        "# Save the selected columns to a new excel file\n",
        "info_dataset.to_excel('data/info_30min_dataset.xlsx', index=False)"
      ]
    },
    {
      "cell_type": "code",
      "execution_count": null,
      "metadata": {},
      "outputs": [],
      "source": [
        "info_dataset.count()"
      ]
    },
    {
      "cell_type": "markdown",
      "metadata": {},
      "source": [
        "ADJUSTING RESULT DATASET TO FINAL DATASET FOR NEURAL NETWORK"
      ]
    },
    {
      "cell_type": "code",
      "execution_count": null,
      "metadata": {
        "id": "Ca35Cx3ZLgst"
      },
      "outputs": [],
      "source": [
        "final_dataset = result_data.drop(columns=['Interval od', 'Interval do', 'Vzorka', 'Zhoda', 'výstupné dáta.5', 'Upravené časy intervalov'])\n",
        "\n",
        "final_dataset.drop_duplicates(subset='0-5')\n",
        "final_dataset.dropna(inplace=True)\n",
        "final_dataset.reset_index(drop=True)\n",
        "\n",
        "final_dataset_path = 'data/15min_dataset_pre_NN.xlsx'\n",
        "final_dataset.to_excel(final_dataset_path, index=False)"
      ]
    },
    {
      "cell_type": "code",
      "execution_count": null,
      "metadata": {},
      "outputs": [],
      "source": [
        "final_dataset"
      ]
    }
  ],
  "metadata": {
    "colab": {
      "provenance": []
    },
    "kernelspec": {
      "display_name": "Python 3",
      "name": "python3"
    },
    "language_info": {
      "codemirror_mode": {
        "name": "ipython",
        "version": 3
      },
      "file_extension": ".py",
      "mimetype": "text/x-python",
      "name": "python",
      "nbconvert_exporter": "python",
      "pygments_lexer": "ipython3",
      "version": "3.12.0"
    }
  },
  "nbformat": 4,
  "nbformat_minor": 0
}
